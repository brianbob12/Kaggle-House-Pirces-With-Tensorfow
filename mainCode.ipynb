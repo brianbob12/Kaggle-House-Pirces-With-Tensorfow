{
  "nbformat": 4,
  "nbformat_minor": 0,
  "metadata": {
    "colab": {
      "name": "GithubVersion.ipynb",
      "provenance": [],
      "collapsed_sections": []
    },
    "kernelspec": {
      "name": "python3",
      "display_name": "Python 3"
    }
  },
  "cells": [
    {
      "cell_type": "code",
      "metadata": {
        "id": "18LfwCko2NJK",
        "colab_type": "code",
        "colab": {}
      },
      "source": [
        "#dependancies\n",
        "import numpy as np\n",
        "import tensorflow as tf\n",
        "import matplotlib.pyplot as plt\n",
        "import pandas as pd\n",
        "import math"
      ],
      "execution_count": 0,
      "outputs": []
    },
    {
      "cell_type": "code",
      "metadata": {
        "id": "5ftm7DaB6Nhy",
        "colab_type": "code",
        "colab": {}
      },
      "source": [
        "def prep(row):#Formats a line of csv to an array of floats shape=[304]\n",
        "  y=row[-1]\n",
        "  row=row[:-1]\n",
        "  x=[]\n",
        "  for i in row:\n",
        "    try:\n",
        "      for j in i:\n",
        "        x.append(float(j))\n",
        "    except:\n",
        "      x.append(float(i))\n",
        "  return x,y\n",
        "\n",
        "def test(iteration):#runs a test with the hold-out set and prints the results\n",
        "  batch_x=[]        #used in order to track progress during training\n",
        "  batch_y=[]\n",
        "  for i in hold_out:\n",
        "    x,y=prep(i)\n",
        "    batch_x.append(x)\n",
        "    batch_y.append([y])\n",
        "  error=math.sqrt(sess.run(tf.reduce_mean(cross_entropy),feed_dict={X:batch_x,Y:batch_y}))\n",
        "  print(\"-\"*15)\n",
        "  print(\"iteration:\",iteration)\n",
        "  print(\"error:\",error)\n",
        "  print(\"-\"*15)\n",
        "  testing_log[0].append(iteration)#This log is used for graphs for training at the end\n",
        "  testing_log[1].append(error)\n",
        "  return error\n",
        "def liniar1(x):#this is a function for the equivelent of no funciont in the layer_activation variable\n",
        "  return x"
      ],
      "execution_count": 0,
      "outputs": []
    },
    {
      "cell_type": "code",
      "metadata": {
        "id": "2--aJf-Y4Zoq",
        "colab_type": "code",
        "colab": {}
      },
      "source": [
        "train_data=pd.read_csv(\"train.csv\")\n",
        "train_data=train_data.drop(columns=[\"Id\"])\n",
        "print(\"columns:\",len(train_data.columns)-1,\" + 1(x)\")\n",
        "raw_data=train_data.copy()\n",
        "numbers=[\"MSSubClass\",\"LotArea\",\"OverallQual\",\"OverallCond\",\"YearBuilt\",\"YearRemodAdd\",\n",
        "        \"BsmtFinSF1\",\"BsmtFinSF2\",\"BsmtUnfSF\",\"TotalBsmtSF\",\"1stFlrSF\",\"2ndFlrSF\",\n",
        "        \"LowQualFinSF\",\"GrLivArea\",\"BsmtFullBath\",\"BsmtHalfBath\",\"BsmtHalfBath\",\"FullBath\",\n",
        "        \"HalfBath\",\"BedroomAbvGr\",\"KitchenAbvGr\",\"TotRmsAbvGrd\",\"Fireplaces\",\"GarageCars\",\n",
        "        \"GarageArea\",\"WoodDeckSF\",\"OpenPorchSF\",\"EnclosedPorch\",\"3SsnPorch\",\"ScreenPorch\",\n",
        "        \"PoolArea\",\"MiscVal\",\"MoSold\",\"YrSold\",\"SalePrice\"]\n",
        "int_na=[\"GarageYrBlt\",\"LotFrontage\",\"MasVnrArea\"]\n",
        "\n",
        "for col in train_data.columns:\n",
        "  new_col=[]\n",
        "  \n",
        "  if col in numbers:\n",
        "    for i in train_data[col]:\n",
        "      new_col.append(int(i))\n",
        "  elif col in int_na:\n",
        "    for i in train_data[col]:\n",
        "      try:\n",
        "        new_col.append(int(i))\n",
        "      except:\n",
        "        new_col.append(-1)   \n",
        "  else:\n",
        "    unis=train_data[col].unique()\n",
        "    unilen=len(unis)\n",
        "    for row in train_data[col]:\n",
        "      pre_row=[]\n",
        "      for i,v in enumerate(unis):\n",
        "        if row==v:\n",
        "          pre_row.append(1)\n",
        "        else:\n",
        "          pre_row.append(0)\n",
        "      new_col.append(tuple(pre_row))\n",
        "    \n",
        "  train_data[col]=new_col"
      ],
      "execution_count": 0,
      "outputs": []
    },
    {
      "cell_type": "code",
      "metadata": {
        "id": "cut4YEXi8D0K",
        "colab_type": "code",
        "colab": {}
      },
      "source": [
        "#SETUP HOLDOUT --OPTINAL\n",
        "#if you do not want a hold-out do not run this box\n",
        "n_hold_out=20\n",
        "hold_out=[]\n",
        "test_const=5#takes one of every 5 peices of training data for the holdout\n",
        "for i in range(n_hold_out):\n",
        "  hold_out.append(train_data.loc[i*test_const])\n",
        "  train_data=train_data.drop([i*test_const])\n",
        "\n",
        "x,y=prep(train_data.loc[1])\n",
        "print(len(x))"
      ],
      "execution_count": 0,
      "outputs": []
    },
    {
      "cell_type": "code",
      "metadata": {
        "id": "922ZSz-SLskp",
        "colab_type": "code",
        "colab": {}
      },
      "source": [
        "#CONSTANTS\n",
        "#Constants have been optimsed\n",
        "n_input=304\n",
        "n_out=1\n",
        "n_layers=2#excludes input layer includes output layer\n",
        "layer_number=[256,1]#number of neurons in each layer, excludes input layer includes output layer\n",
        "layer_activation=[liniar1,liniar1,liniar1]#activation function for each layer\n",
        "weight_decay_value=20\n",
        "#outpus price\n",
        "\n",
        "learning_rate=0.01\n",
        "batch_size=train_data.count()[0]-n_hold_out#the whole dataset\n",
        "#redefine batch_size in order to use mini-batches\n",
        "batch_iterations=60\n",
        "total_iterations=batch_size*batch_iterations\n",
        "\n",
        "X=tf.placeholder(\"float\",[None,n_input])\n",
        "Y=tf.placeholder(\"float\",[None,n_out])\n",
        "dropout=tf.placeholder(\"float\")#if 1 then dropout occurs ,if 0 no dropout occurs\n",
        "\n",
        "test_occurance=1#in batch iterations\n",
        "\n",
        "#output the hyperperameters of the network in a clear way\n",
        "print(\"current structure:\")\n",
        "print(\"learning rate:\\t\\t\"+str(learning_rate))\n",
        "print(\"batch size:\\t\\t\"+str(batch_size))\n",
        "print(\"weight dacay value:\\t\"+str(weight_decay_value))\n",
        "print(\"\\tinput layer interger\\t-304-\")\n",
        "for i in range(n_layers-1):\n",
        "  print(\"\\thidden layer float\\t\",end=\"\")\n",
        "  print(\"-\"+str(layer_number[i])+\"-\\tactivation:\"+str(layer_activation[i]))\n",
        "print(\"\\toutput layer float\\t-1-\\tactivation:\"+str(layer_activation[-1]))"
      ],
      "execution_count": 0,
      "outputs": []
    },
    {
      "cell_type": "code",
      "metadata": {
        "id": "K8j-6kXtz_dN",
        "colab_type": "code",
        "colab": {}
      },
      "source": [
        "#import network --OPTIONAL\n",
        "#can be sued to import a trained model\n",
        "#Make sure the constants above are applicable for the imported model\n",
        "#ONly accepts models exported from this program\n",
        "import os\n",
        "reW=[]\n",
        "reB=[]\n",
        "path=input(\"enter network path:\")\n",
        "layer_n=len(os.listdir(path+\"/weights\"))\n",
        "for i in range(layer_n):\n",
        "  reW.append([])\n",
        "  with open(path+\"/weights/l\"+str(i)+\".csv\",\"r\") as f:\n",
        "    red=f.readlines()\n",
        "  for j in red:\n",
        "    reW[i].append([float(k) for k in j[:-1].split(\",\")])\n",
        "\n",
        "with open(path+\"/biases/biases.csv\",\"r\") as f:\n",
        "  red=f.readlines()\n",
        "  reB=[[float(j) for j in i[:-1].split(\",\")] for i in red]\n",
        "\n",
        "weights=[]\n",
        "biases=[]\n",
        "layers=[]\n",
        "for i in range(n_layers):\n",
        "  biases.append(tf.Variable(reB[i]))\n",
        "  weights.append(tf.Variable(reW[i]))\n",
        "  if i==0:\n",
        "    tf.add_to_collection(\"weight_decay\",tf.nn.l2_loss(weights[-1])*weight_decay_value)\n",
        "    layers.append(layer_activation[i](tf.math.add(tf.matmul(X,weights[i]),biases[i])))\n",
        "  else:\n",
        "    layers.append(layer_activation[i](tf.math.add(tf.matmul(layers[i-1],weights[i]),biases[i])))\n",
        "out_layer=layers[-1]#take the final layer\n",
        "\n",
        "cross_entropy=tf.reduce_mean(tf.square(tf.math.divide(tf.math.subtract(out_layer,Y),Y)))\n",
        "weight_decay_loss = tf.get_collection('weight_decay')\n",
        "total_loss=cross_entropy+weight_decay_loss\n",
        "training_step=tf.train.AdamOptimizer(learning_rate).minimize(total_loss)"
      ],
      "execution_count": 0,
      "outputs": []
    },
    {
      "cell_type": "code",
      "metadata": {
        "id": "_ISpMixIPQ0q",
        "colab_type": "code",
        "colab": {}
      },
      "source": [
        "#make new networks --OPTIONAL\n",
        "#initilises a new, untrained network using the hyperperameters above\n",
        "weights=[]\n",
        "biases=[]\n",
        "layers=[]\n",
        "\n",
        "for i in range(n_layers):\n",
        "  biases.append(tf.Variable(tf.constant(0.1,shape=[layer_number[i]])))\n",
        "  if i==0:#first layer\n",
        "    weights.append(tf.Variable(#multiples random weights by a constant in order to prevent the network having too high weights at initilisation\n",
        "        tf.math.scalar_mul(tf.math.sqrt(1/layer_number[i]**(i)),tf.truncated_normal([n_input,layer_number[i]],stddev=1))\n",
        "                  ))\n",
        "    tf.add_to_collection(\"weight_decay\",tf.nn.l2_loss(weights[-1])*weight_decay_value)#sets up weight decay for L2 regulisation\n",
        "    \n",
        "    layers.append(layer_activation[i](tf.math.add(tf.matmul(X,weights[i]),biases[i])))\n",
        "    \n",
        "  else:\n",
        "    weights.append(tf.Variable(\n",
        "        tf.math.scalar_mul(tf.math.sqrt(1/layer_number[i]**(i)),tf.truncated_normal([layer_number[i-1],layer_number[i]],stddev=1))\n",
        "                  ))\n",
        "    layers.append(layer_activation[i](tf.math.add(tf.matmul(layers[i-1],weights[i]),biases[i])))\n",
        "\n",
        "out_layer=layers[-1]#take the final layer\n",
        "\n",
        "cross_entropy=tf.reduce_mean(tf.square(tf.math.divide(tf.math.subtract(out_layer,Y),Y)))#gets the mean of the square of the difference between prediction and correct answer\n",
        "weight_decay_loss = tf.get_collection('weight_decay')\n",
        "total_loss=cross_entropy+weight_decay_loss#weight_decal_loss is part of L2 regularization\n",
        "training_step=tf.train.AdamOptimizer(learning_rate).minimize(total_loss)"
      ],
      "execution_count": 0,
      "outputs": []
    },
    {
      "cell_type": "code",
      "metadata": {
        "id": "dcgf39_JOMoz",
        "colab_type": "code",
        "colab": {}
      },
      "source": [
        "testing_log=[[],[],[]]\n",
        "init=tf.global_variables_initializer()\n",
        "sess=tf.Session()\n",
        "sess.run(init)"
      ],
      "execution_count": 0,
      "outputs": []
    },
    {
      "cell_type": "code",
      "metadata": {
        "id": "RJ19TUY_P2MU",
        "colab_type": "code",
        "colab": {}
      },
      "source": [
        "#Train the network\n",
        "last=test(0)\n",
        "place=0#excludes test data\n",
        "for i in range(batch_iterations):\n",
        "  batch_x=[]\n",
        "  batch_y=[]\n",
        "  for j in range(batch_size):\n",
        "    while True:\n",
        "      try:\n",
        "        x,y=prep(train_data.loc[place])\n",
        "      except:\n",
        "        place+=1\n",
        "        place%=train_data.count()[0]#loop trought the dataset\n",
        "      finally:\n",
        "        break\n",
        "    place+=1\n",
        "    place%=train_data.count()[0]\n",
        "    batch_x.append(x)\n",
        "    batch_y.append([y])\n",
        "  results=sess.run([cross_entropy,training_step],feed_dict={X:batch_x,Y:batch_y})\n",
        "  if (i+1)%test_occurance==0:\n",
        "    k=math.sqrt(results[0])\n",
        "    print(\"training error:\",k)\n",
        "    testing_log[2].append(k)\n",
        "    p=test(i+1)\n",
        "    if p-last>0:\n",
        "      mod=0\n",
        "      print(\"minimum hold-out:\"+str(min(testing_log[1])))\n",
        "      print(\"final hold-out:  \"+str(testing_log[1][-1]))\n",
        "      plt.plot(testing_log[0][mod:],testing_log[1][mod:],\"r\")#graphing error\n",
        "      plt.plot(testing_log[0][mod:-1],testing_log[2][mod:],\"b\")#graphing training error\n",
        "      plt.show()\n",
        "      if input(\"Negitive progres, stop learning(y/n)\").lower() == \"y\":\n",
        "        break\n",
        "      else:\n",
        "        last=p\n",
        "    else:\n",
        "      last=p"
      ],
      "execution_count": 0,
      "outputs": []
    },
    {
      "cell_type": "code",
      "metadata": {
        "id": "6A5l0-fYWfxh",
        "colab_type": "code",
        "outputId": "4bace4b9-a952-41ea-8713-453c3ccd67bb",
        "colab": {
          "base_uri": "https://localhost:8080/",
          "height": 303
        }
      },
      "source": [
        "#Graph the training\n",
        "#red is training error\n",
        "#blue is hold-out error\n",
        "mod=0\n",
        "print(\"minimum hold-out:\"+str(min(testing_log[1])))\n",
        "print(\"final hold-out:  \"+str(testing_log[1][-1]))\n",
        "plt.plot(testing_log[0][mod:],testing_log[1][mod:],\"r\")#graphing error\n",
        "plt.plot(testing_log[0][mod:-1],testing_log[2][mod:],\"b\")#graphing training error\n",
        "plt.show()"
      ],
      "execution_count": 0,
      "outputs": [
        {
          "output_type": "stream",
          "text": [
            "minimum hold-out:0.4817691974783953\n",
            "final hold-out:  0.48351294192101174\n"
          ],
          "name": "stdout"
        },
        {
          "output_type": "display_data",
          "data": {
            "image/png": "[encoded data removed]",
            "text/plain": [
              "<Figure size 432x288 with 1 Axes>"
            ]
          },
          "metadata": {
            "tags": []
          }
        }
      ]
    },
    {
      "cell_type": "code",
      "metadata": {
        "id": "kdFLbvzIOXY7",
        "colab_type": "code",
        "colab": {}
      },
      "source": [
        "#Test of the network on individual peices of the training data\n",
        "print(\"number from 0-1459(inclusinve)\")\n",
        "pd.set_option('display.max_columns', None)\n",
        "num=int(input(\"number:\"))\n",
        "if num>1459:\n",
        "  print(\"too large\")\n",
        "elif num<0:\n",
        "  print(\"too large\")\n",
        "else:\n",
        "  try:\n",
        "    test_row=train_data.loc[num]\n",
        "  except:\n",
        "    print(\"plesase chose a different number\")\n",
        "  else:\n",
        "    if num%5==0:\n",
        "      print(\"The network was not trained on this peice of data.\")\n",
        "    else:\n",
        "      print(\"The network was trained on this peice of data.\")\n",
        "    #print(raw_data.loc[num:num])\n",
        "    x,y=prep(test_row)\n",
        "    outs=sess.run([cross_entropy,out_layer],feed_dict={X:[x],Y:[[y]]})\n",
        "    print()\n",
        "    print(\"Predicted value:\\t $\"+str(outs[1][0][0]))\n",
        "    print(\"Actual value:\\t\\t $\"+str(y))\n",
        "    print(\"difference:\\t\\t $\"+str(outs[1][0][0]-y))\n",
        "    print(\"error:     \\t\\t\"+str(abs(outs[1][0][0]-y)/y*100)+\"%\")\n",
        "raw_data.loc[num:num]"
      ],
      "execution_count": 0,
      "outputs": []
    },
    {
      "cell_type": "code",
      "metadata": {
        "id": "Yq4nC9-NJrrF",
        "colab_type": "code",
        "outputId": "9fd2d9bd-04f6-4895-eb03-e9756c78c852",
        "colab": {
          "base_uri": "https://localhost:8080/",
          "height": 34
        }
      },
      "source": [
        "#Export Network\n",
        "final_weights=sess.run(weights)\n",
        "final_baises=sess.run(biases)\n",
        "import os\n",
        "\n",
        "try:\n",
        "  os.mkdir(\"network\")\n",
        "except:\n",
        "  pass\n",
        "try:\n",
        "  os.mkdir(\"network//weights\")\n",
        "except:\n",
        "  pass\n",
        "try:\n",
        "  os.mkdir(\"network//biases\")\n",
        "except:\n",
        "  pass\n",
        "for n,v in enumerate(final_weights):\n",
        "  name=\"network//weights//l\"+str(n)+\".csv\"\n",
        "  final=\"\"\n",
        "  for i in v:\n",
        "    for j in i:\n",
        "      final+=str(j)+\",\"\n",
        "    final=final[:-1]\n",
        "    final+=\"\\n\"\n",
        "  with open(name,\"w\") as f:\n",
        "    f.write(final)\n",
        "fin=\"\"\n",
        "for i in final_baises:\n",
        "  for j in i:\n",
        "    fin+=str(j)+\",\"\n",
        "  fin=fin[:-1]\n",
        "  fin+=\"\\n\"\n",
        "with open(\"network//biases//biases.csv\",\"w\") as f:\n",
        "  f.write(fin)\n",
        "print(\"Network Exported\")"
      ],
      "execution_count": 0,
      "outputs": [
        {
          "output_type": "stream",
          "text": [
            "Network Exported\n"
          ],
          "name": "stdout"
        }
      ]
    },
    {
      "cell_type": "code",
      "metadata": {
        "id": "gEDy74Q1ShvY",
        "colab_type": "code",
        "outputId": "8d84345f-3209-4c59-e702-b5e7926a5ded",
        "colab": {
          "base_uri": "https://localhost:8080/",
          "height": 136
        }
      },
      "source": [
        "#DOwnlaods the exported network for Google Colab\n",
        "!zip -r /content/network.zip /content/network\n",
        "from google.colab import files\n",
        "files.download(\"/content/network.zip\") \n",
        "print(\"network Downloaded\")"
      ],
      "execution_count": 0,
      "outputs": [
        {
          "output_type": "stream",
          "text": [
            "  adding: content/network/ (stored 0%)\n",
            "  adding: content/network/biases/ (stored 0%)\n",
            "  adding: content/network/biases/biases.csv (deflated 62%)\n",
            "  adding: content/network/weights/ (stored 0%)\n",
            "  adding: content/network/weights/l1.csv (deflated 54%)\n",
            "  adding: content/network/weights/l0.csv (deflated 57%)\n",
            "network Downloaded\n"
          ],
          "name": "stdout"
        }
      ]
    }
  ]
}